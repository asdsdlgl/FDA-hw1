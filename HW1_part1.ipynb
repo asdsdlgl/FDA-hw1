{
 "cells": [
  {
   "cell_type": "code",
   "execution_count": 215,
   "metadata": {},
   "outputs": [],
   "source": [
    "import pandas as pd\n",
    "import numpy as np\n",
    "import matplotlib.pyplot as plt\n",
    "from sklearn import datasets, linear_model\n",
    "from sklearn.linear_model import LinearRegression\n",
    "df = pd.read_csv('Reviews.csv')\n",
    "df = df[:10000]\n"
   ]
  },
  {
   "cell_type": "code",
   "execution_count": 216,
   "metadata": {},
   "outputs": [
    {
     "data": {
      "text/html": [
       "<div>\n",
       "<style scoped>\n",
       "    .dataframe tbody tr th:only-of-type {\n",
       "        vertical-align: middle;\n",
       "    }\n",
       "\n",
       "    .dataframe tbody tr th {\n",
       "        vertical-align: top;\n",
       "    }\n",
       "\n",
       "    .dataframe thead th {\n",
       "        text-align: right;\n",
       "    }\n",
       "</style>\n",
       "<table border=\"1\" class=\"dataframe\">\n",
       "  <thead>\n",
       "    <tr style=\"text-align: right;\">\n",
       "      <th></th>\n",
       "      <th></th>\n",
       "      <th>Score count</th>\n",
       "      <th>Score mean</th>\n",
       "    </tr>\n",
       "    <tr>\n",
       "      <th>UserId</th>\n",
       "      <th>ProfileName</th>\n",
       "      <th></th>\n",
       "      <th></th>\n",
       "    </tr>\n",
       "  </thead>\n",
       "  <tbody>\n",
       "    <tr>\n",
       "      <th>A1Z54EM24Y40LL</th>\n",
       "      <th>c2</th>\n",
       "      <td>17</td>\n",
       "      <td>3.882353</td>\n",
       "    </tr>\n",
       "    <tr>\n",
       "      <th>A2SZLNSI5KOQJT</th>\n",
       "      <th>Carrie, \"Formerly &amp;#34;Sister Carrie&amp;#34;\"</th>\n",
       "      <td>10</td>\n",
       "      <td>3.800000</td>\n",
       "    </tr>\n",
       "    <tr>\n",
       "      <th>A35R32TA60XD57</th>\n",
       "      <th>M. Torma</th>\n",
       "      <td>9</td>\n",
       "      <td>4.111111</td>\n",
       "    </tr>\n",
       "    <tr>\n",
       "      <th>A281NPSIMI1C2R</th>\n",
       "      <th>Rebecca of Amazon \"The Rebecca Review\"</th>\n",
       "      <td>8</td>\n",
       "      <td>5.000000</td>\n",
       "    </tr>\n",
       "    <tr>\n",
       "      <th>A3OXHLG6DIBRW8</th>\n",
       "      <th>C. F. Hill \"CFH\"</th>\n",
       "      <td>7</td>\n",
       "      <td>4.428571</td>\n",
       "    </tr>\n",
       "    <tr>\n",
       "      <th>A3NHUQ33CFH3VM</th>\n",
       "      <th>Citizen John</th>\n",
       "      <td>7</td>\n",
       "      <td>3.142857</td>\n",
       "    </tr>\n",
       "    <tr>\n",
       "      <th>A3PJZ8TU8FDQ1K</th>\n",
       "      <th>Jared Castle</th>\n",
       "      <td>7</td>\n",
       "      <td>4.714286</td>\n",
       "    </tr>\n",
       "    <tr>\n",
       "      <th>AQ6SHOW0VMZGF</th>\n",
       "      <th>K. Padgett \"familyof5\"</th>\n",
       "      <td>6</td>\n",
       "      <td>2.666667</td>\n",
       "    </tr>\n",
       "    <tr>\n",
       "      <th>A26NFIQ7KWI8Y7</th>\n",
       "      <th>kt rose</th>\n",
       "      <td>6</td>\n",
       "      <td>2.666667</td>\n",
       "    </tr>\n",
       "    <tr>\n",
       "      <th>A10H24TDLK2VDP</th>\n",
       "      <th>William Jens Jensen</th>\n",
       "      <td>6</td>\n",
       "      <td>3.000000</td>\n",
       "    </tr>\n",
       "  </tbody>\n",
       "</table>\n",
       "</div>"
      ],
      "text/plain": [
       "                                                           Score count  \\\n",
       "UserId         ProfileName                                               \n",
       "A1Z54EM24Y40LL c2                                                   17   \n",
       "A2SZLNSI5KOQJT Carrie, \"Formerly &#34;Sister Carrie&#34;\"           10   \n",
       "A35R32TA60XD57 M. Torma                                              9   \n",
       "A281NPSIMI1C2R Rebecca of Amazon \"The Rebecca Review\"                8   \n",
       "A3OXHLG6DIBRW8 C. F. Hill \"CFH\"                                      7   \n",
       "A3NHUQ33CFH3VM Citizen John                                          7   \n",
       "A3PJZ8TU8FDQ1K Jared Castle                                          7   \n",
       "AQ6SHOW0VMZGF  K. Padgett \"familyof5\"                                6   \n",
       "A26NFIQ7KWI8Y7 kt rose                                               6   \n",
       "A10H24TDLK2VDP William Jens Jensen                                   6   \n",
       "\n",
       "                                                           Score mean  \n",
       "UserId         ProfileName                                             \n",
       "A1Z54EM24Y40LL c2                                            3.882353  \n",
       "A2SZLNSI5KOQJT Carrie, \"Formerly &#34;Sister Carrie&#34;\"    3.800000  \n",
       "A35R32TA60XD57 M. Torma                                      4.111111  \n",
       "A281NPSIMI1C2R Rebecca of Amazon \"The Rebecca Review\"        5.000000  \n",
       "A3OXHLG6DIBRW8 C. F. Hill \"CFH\"                              4.428571  \n",
       "A3NHUQ33CFH3VM Citizen John                                  3.142857  \n",
       "A3PJZ8TU8FDQ1K Jared Castle                                  4.714286  \n",
       "AQ6SHOW0VMZGF  K. Padgett \"familyof5\"                        2.666667  \n",
       "A26NFIQ7KWI8Y7 kt rose                                       2.666667  \n",
       "A10H24TDLK2VDP William Jens Jensen                           3.000000  "
      ]
     },
     "execution_count": 216,
     "metadata": {},
     "output_type": "execute_result"
    }
   ],
   "source": [
    "df_sort = df.groupby(['UserId', 'ProfileName'])\n",
    "df_mean = df_sort.mean()['Score']\n",
    "df_count = df_sort.size()\n",
    "df_dataframe = pd.DataFrame(columns=['Score count', 'Score mean'])\n",
    "df_dataframe['Score count'] = df_count\n",
    "df_dataframe['Score mean'] = df_mean\n",
    "df_dataframe.sort_values(by=['Score count'], ascending=False, inplace=True)\n",
    "df_dataframe.head(10)"
   ]
  },
  {
   "cell_type": "code",
   "execution_count": 217,
   "metadata": {},
   "outputs": [
    {
     "data": {
      "text/plain": [
       "<BarContainer object of 5 artists>"
      ]
     },
     "execution_count": 217,
     "metadata": {},
     "output_type": "execute_result"
    },
    {
     "data": {
      "image/png": "[encoded data removed]",
      "text/plain": [
       "<Figure size 432x288 with 1 Axes>"
      ]
     },
     "metadata": {},
     "output_type": "display_data"
    }
   ],
   "source": [
    "df_series = df.loc[df['ProfileName']=='c2', 'Score']\n",
    "number = []\n",
    "for element in df_series:\n",
    "    if element not in number:\n",
    "        number.append(element)\n",
    "#arr = np.array([0,0,0,0,0])\n",
    "arr = []\n",
    "for i in range(len(number)):\n",
    "    arr.append(0)\n",
    "key = []\n",
    "for element in df_series:\n",
    "    arr[element-1] += 1\n",
    "length = len(arr)\n",
    "arr.sort()\n",
    "for i in range(length):\n",
    "    key.append(i+1)\n",
    "plt.bar(key,arr,color=['blue', 'orange', 'green', 'red', 'purple'])"
   ]
  },
  {
   "cell_type": "code",
   "execution_count": 218,
   "metadata": {},
   "outputs": [
    {
     "data": {
      "text/plain": [
       "Time\n",
       "2000       2\n",
       "2004      20\n",
       "2005      28\n",
       "2006     122\n",
       "2007     370\n",
       "2008     508\n",
       "2009    1193\n",
       "2010    1621\n",
       "2011    2900\n",
       "2012    3236\n",
       "dtype: int64"
      ]
     },
     "execution_count": 218,
     "metadata": {},
     "output_type": "execute_result"
    }
   ],
   "source": [
    "from datetime import date\n",
    "df_passTime = df['Time']\n",
    "df_time = df_passTime/60/60/24/365.24+1970\n",
    "df_time = df_time.astype(int)\n",
    "df1 = pd.DataFrame(data=df_time, columns=['Time'])\n",
    "df2 = df1.groupby(['Time'])\n",
    "df2.size()"
   ]
  },
  {
   "cell_type": "code",
   "execution_count": 219,
   "metadata": {},
   "outputs": [
    {
     "data": {
      "text/plain": [
       "<BarContainer object of 10 artists>"
      ]
     },
     "execution_count": 219,
     "metadata": {},
     "output_type": "execute_result"
    },
    {
     "data": {
      "image/png": "[encoded data removed]",
      "text/plain": [
       "<Figure size 432x288 with 1 Axes>"
      ]
     },
     "metadata": {},
     "output_type": "display_data"
    }
   ],
   "source": [
    "plt.xlabel('Review year')\n",
    "plt.ylabel('Review count')\n",
    "plt.title('Review count by year')\n",
    "plt.bar(df2.sum().index,df2.size())"
   ]
  },
  {
   "cell_type": "code",
   "execution_count": 220,
   "metadata": {},
   "outputs": [
    {
     "data": {
      "text/plain": [
       "<matplotlib.axes._subplots.AxesSubplot at 0x18b88dfa780>"
      ]
     },
     "execution_count": 220,
     "metadata": {},
     "output_type": "execute_result"
    },
    {
     "data": {
      "image/png": "[encoded data removed]",
      "text/plain": [
       "<Figure size 432x288 with 2 Axes>"
      ]
     },
     "metadata": {},
     "output_type": "display_data"
    }
   ],
   "source": [
    "df_features = df.loc[:, ['Id', 'HelpfulnessNumerator', 'HelpfulnessDenominator', 'Score', 'Time']]\n",
    "import seaborn as sns\n",
    "sns.set()\n",
    "sns.heatmap(df_features.corr(), annot=True)"
   ]
  },
  {
   "cell_type": "code",
   "execution_count": 221,
   "metadata": {},
   "outputs": [
    {
     "data": {
      "image/png": "[encoded data removed]",
      "text/plain": [
       "<Figure size 432x288 with 1 Axes>"
      ]
     },
     "metadata": {},
     "output_type": "display_data"
    }
   ],
   "source": [
    "df_filter = df.loc[df['HelpfulnessNumerator'] <= df['HelpfulnessDenominator']]\n",
    "Ratio = df_filter['HelpfulnessNumerator'] / df_filter['HelpfulnessDenominator']\n",
    "plt.hist(Ratio.fillna(-1));\n",
    "#plt.hist(Ratio);"
   ]
  },
  {
   "cell_type": "code",
   "execution_count": null,
   "metadata": {},
   "outputs": [],
   "source": []
  }
 ],
 "metadata": {
  "kernelspec": {
   "display_name": "Python 3",
   "language": "python",
   "name": "python3"
  },
  "language_info": {
   "codemirror_mode": {
    "name": "ipython",
    "version": 3
   },
   "file_extension": ".py",
   "mimetype": "text/x-python",
   "name": "python",
   "nbconvert_exporter": "python",
   "pygments_lexer": "ipython3",
   "version": "3.7.1"
  }
 },
 "nbformat": 4,
 "nbformat_minor": 2
}
